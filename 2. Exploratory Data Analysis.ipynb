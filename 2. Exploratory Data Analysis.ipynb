{
 "cells": [
  {
   "cell_type": "markdown",
   "id": "51de3a6a",
   "metadata": {},
   "source": [
    "## Exploratory Data Analysis\n",
    "* Basic Statistics\n",
    "* Visualization\n",
    "* Correlation"
   ]
  },
  {
   "cell_type": "markdown",
   "id": "5e55fff1",
   "metadata": {},
   "source": [
    "Feature selection: For weather predictions, variables like temperature, humidity, and wind speed are intuitively important for predicting rain."
   ]
  },
  {
   "cell_type": "markdown",
   "id": "f08c92b3",
   "metadata": {},
   "source": [
    "## Further Data Cleaning\n",
    "The cycle of cleaning-EDA continues until dataset is deemed cleaned enough for modelling\n",
    "* Outliers"
   ]
  },
  {
   "cell_type": "code",
   "execution_count": null,
   "id": "a2ed8625",
   "metadata": {},
   "outputs": [],
   "source": []
  }
 ],
 "metadata": {
  "kernelspec": {
   "display_name": "Python 3 (ipykernel)",
   "language": "python",
   "name": "python3"
  },
  "language_info": {
   "codemirror_mode": {
    "name": "ipython",
    "version": 3
   },
   "file_extension": ".py",
   "mimetype": "text/x-python",
   "name": "python",
   "nbconvert_exporter": "python",
   "pygments_lexer": "ipython3",
   "version": "3.11.5"
  }
 },
 "nbformat": 4,
 "nbformat_minor": 5
}
